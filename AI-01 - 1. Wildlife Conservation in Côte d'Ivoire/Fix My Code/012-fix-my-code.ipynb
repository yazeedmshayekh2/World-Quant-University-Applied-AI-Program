{
 "cells": [
  {
   "cell_type": "markdown",
   "metadata": {
    "deletable": false,
    "editable": false
   },
   "source": [
    "<p>\n",
    "  <b>AI Lab: Deep Learning for Computer Vision</b><br>\n",
    "  <b><a href=\"https://www.wqu.edu/\">WorldQuant University</a></b>\n",
    "</p>"
   ]
  },
  {
   "cell_type": "markdown",
   "metadata": {
    "deletable": false,
    "editable": false
   },
   "source": [
    "<div class=\"alert alert-success\" role=\"alert\">\n",
    "  <p>\n",
    "    <center><b>Usage Guidelines</b></center>\n",
    "  </p>\n",
    "  <p>\n",
    "    This file is licensed under <a href=\"https://creativecommons.org/licenses/by-nc-nd/4.0/\">Creative Commons Attribution-NonCommercial-NoDerivatives 4.0 International</a>.\n",
    "  </p>\n",
    "  <p>\n",
    "    You <b>can</b>:\n",
    "    <ul>\n",
    "      <li><span style=\"color: green\">✓</span> Download this file</li>\n",
    "      <li><span style=\"color: green\">✓</span> Post this file in public repositories</li>\n",
    "    </ul>\n",
    "    You <b>must always</b>:\n",
    "    <ul>\n",
    "      <li><span style=\"color: green\">✓</span> Give credit to <a href=\"https://www.wqu.edu/\">WorldQuant University</a> for the creation of this file</li>\n",
    "      <li><span style=\"color: green\">✓</span> Provide a <a href=\"https://creativecommons.org/licenses/by-nc-nd/4.0/\">link to the license</a></li>\n",
    "    </ul>\n",
    "    You <b>cannot</b>:\n",
    "    <ul>\n",
    "      <li><span style=\"color: red\">✗</span> Create derivatives or adaptations of this file</li>\n",
    "      <li><span style=\"color: red\">✗</span> Use this file for commercial purposes</li>\n",
    "    </ul>\n",
    "  </p>\n",
    "  <p>\n",
    "    Failure to follow these guidelines is a violation of your terms of service and could lead to your expulsion from WorldQuant University and the revocation your certificate.\n",
    "  </p>\n",
    "</div>"
   ]
  },
  {
   "cell_type": "markdown",
   "metadata": {},
   "source": [
    "Below is an example of code that has a bug in it. When the cell is executed, the code does not run because it raises an exception and generates a traceback."
   ]
  },
  {
   "cell_type": "code",
   "execution_count": null,
   "metadata": {
    "tags": [
     "raises-exception"
    ]
   },
   "outputs": [],
   "source": [
    "def greet(name):\n",
    "    print(\"Hello,\", name)\n",
    "\n",
    "\n",
    "greet(user_name)"
   ]
  },
  {
   "cell_type": "markdown",
   "metadata": {},
   "source": [
    "In the code above, we did not define the variable `user_name` before it was used. It's a common mistake to use a variable without defining it first.\n",
    "\n",
    "Let's walk through the traceback. We read a traceback by **starting with the last line**. The first element is `NameError`, which is the type of exception that was raised. After the colon (`:`), there's a more detailed explanation: `name 'user_name' is not defined`. Looking at the next line up, we see an arrow (`---->`), which points to the line causing the error. Above that, there's also a brief snippet of code for context. The top line repeats some of the information: `NameError Traceback (most recent call last)`.\n",
    "\n",
    "Let's fix the code so it runs."
   ]
  },
  {
   "cell_type": "code",
   "execution_count": null,
   "metadata": {},
   "outputs": [],
   "source": [
    "def greet(name):\n",
    "    print(\"Hello,\", name)\n",
    "\n",
    "\n",
    "user_name = \"Zarah\"\n",
    "greet(user_name)"
   ]
  },
  {
   "cell_type": "markdown",
   "metadata": {},
   "source": [
    "The code now runs because the variable `user_name` is defined before it's called."
   ]
  },
  {
   "cell_type": "markdown",
   "metadata": {},
   "source": [
    "Now it's your turn. The code below is broken. Run the cell and use the traceback to locate the error."
   ]
  },
  {
   "cell_type": "markdown",
   "metadata": {},
   "source": [
    "**Task 1.2.1:** Fix a `NameError` using a traceback."
   ]
  },
  {
   "cell_type": "code",
   "execution_count": null,
   "metadata": {},
   "outputs": [],
   "source": [
    "say_hello()\n",
    "\n",
    "def say_hello():\n",
    "    print(\"Hello!\")"
   ]
  },
  {
   "cell_type": "markdown",
   "metadata": {},
   "source": [
    "A function needs to be defined before it's called. Thus, the order of the elements needed to be swapped."
   ]
  },
  {
   "cell_type": "markdown",
   "metadata": {},
   "source": [
    "Let's look at another example of broken code that generates a traceback."
   ]
  },
  {
   "cell_type": "code",
   "execution_count": 18,
   "metadata": {},
   "outputs": [],
   "source": [
    "def calculate_average(numbers):\n",
    "    return sum(numbers) / len(numbers)"
   ]
  },
  {
   "cell_type": "code",
   "execution_count": null,
   "metadata": {
    "tags": [
     "raises-exception"
    ]
   },
   "outputs": [],
   "source": [
    "result = calculate_average([1, 2, 3, \"4\", 5])"
   ]
  },
  {
   "cell_type": "markdown",
   "metadata": {
    "tags": [
     "raises-exception"
    ]
   },
   "source": [
    "Let's walk through this traceback **starting with the last line**. The exception type is `TypeError`. There is an `unsupported operand type(s) for +`. An *operand* is the data on which an operation is performed. In this case, the function is attempting to add (`+`) an integer (`int`) and a string (`str`). The next line (`----> 2     return sum(numbers) / len(numbers)`) points to the line raising the exception in the function. The Python kernel also displays the cell in which this function is called. Above that, there is `----> 1 result = calculate_average([1, 2, 3, 'four', 5])`, which points to the line that called the function. These two code snippets provide the extended context which raises the exception. \n",
    "\n",
    "Let's change the code to use a consistent datatype, integer makes the most sense in this example."
   ]
  },
  {
   "cell_type": "code",
   "execution_count": 20,
   "metadata": {},
   "outputs": [],
   "source": [
    "result = calculate_average([1, 2, 3, 4, 5])"
   ]
  },
  {
   "cell_type": "markdown",
   "metadata": {},
   "source": [
    "Now, the code runs without errors."
   ]
  },
  {
   "cell_type": "markdown",
   "metadata": {},
   "source": [
    "The following code is broken. Run the cell, read the traceback, understand the error, and then correct the code. Change only the code, do **not** modify the data."
   ]
  },
  {
   "cell_type": "markdown",
   "metadata": {},
   "source": [
    "**Task 1.2.2:** Fix the function `lower_case_dictionary_values` using traceback information."
   ]
  },
  {
   "cell_type": "code",
   "execution_count": null,
   "metadata": {},
   "outputs": [],
   "source": [
    "def lower_case_dictionary_values(dictionary):\n",
    "    new_dict = {}\n",
    "    for key, value in dictionary.items():\n",
    "        new_dict[key] = value.lower()\n",
    "    return new_dict\n",
    "\n",
    "\n",
    "user_data = {\n",
    "    \"username\": \"Maria Clara Santos\",\n",
    "    \"email\": \"Maria.Clara.Aantos@example.com\",\n",
    "    \"age\": 30,\n",
    "}\n",
    "\n",
    "lower_case_dictionary_values(user_data)"
   ]
  },
  {
   "cell_type": "markdown",
   "metadata": {},
   "source": [
    "The issue is that an `int` type can not be lowercased. One solution is to add a conditional that only lowercases `str` types."
   ]
  },
  {
   "cell_type": "markdown",
   "metadata": {},
   "source": [
    "Let's examine an example of a traceback coming from a common PyTorch error."
   ]
  },
  {
   "cell_type": "code",
   "execution_count": 23,
   "metadata": {},
   "outputs": [],
   "source": [
    "import torch"
   ]
  },
  {
   "cell_type": "code",
   "execution_count": null,
   "metadata": {
    "tags": [
     "raises-exception"
    ]
   },
   "outputs": [],
   "source": [
    "tensor_on_cpu = torch.tensor([1, 2, 3])\n",
    "tensor_on_gpu = torch.tensor([4, 5, 6]).cuda()\n",
    "result = tensor_on_cpu + tensor_on_gpu"
   ]
  },
  {
   "cell_type": "markdown",
   "metadata": {},
   "source": [
    "This `RuntimeError` is a result of trying to combine a CPU-based tensor with a GPU-based tensor. To fix this error, you need to ensure all tensors are on the same device before performing operations. One way to do that is to move the CPU-based tensor to the GPU, then the operation will be valid."
   ]
  },
  {
   "cell_type": "code",
   "execution_count": 25,
   "metadata": {
    "tags": [
     "skip-flake8"
    ]
   },
   "outputs": [],
   "source": [
    "tensor_moved_to_gpu = tensor_on_cpu.cuda()\n",
    "result = tensor_moved_to_gpu + tensor_on_gpu"
   ]
  },
  {
   "cell_type": "markdown",
   "metadata": {},
   "source": [
    "**Task 1.2.3:** Fix PyTorch `RuntimeError` using traceback information."
   ]
  },
  {
   "cell_type": "code",
   "execution_count": 27,
   "metadata": {},
   "outputs": [],
   "source": [
    "# Important! Don't change this!\n",
    "torch.manual_seed(42)\n",
    "torch.cuda.manual_seed(42)\n",
    "\n",
    "matrix_1 = torch.randn(3, 4).cuda()\n",
    "\n",
    "matrix_2 = torch.randn(4, 2)\n",
    "# your code goes here...\n",
    "\n",
    "result = torch.mm(matrix_1, matrix_2)"
   ]
  },
  {
   "cell_type": "markdown",
   "metadata": {},
   "source": [
    "In PyTorch, all tensors involved in a computation must be on the same device. One solution is to move tensors from the CPU to the GPU using the `.cuda()` method."
   ]
  },
  {
   "cell_type": "markdown",
   "metadata": {},
   "source": [
    "In closing, errors are a natural part of programming. When encountering an error, pause, read the traceback message slowly (always starting at the end), and think about what the traceback message is telling you about the cause of the error. Use that information to make a plan on how to fix the code."
   ]
  },
  {
   "cell_type": "markdown",
   "metadata": {
    "deletable": false,
    "editable": false
   },
   "source": [
    "---\n",
    "This file &#169; 2024 by [WorldQuant University](https://www.wqu.edu/) is licensed under [CC BY-NC-ND 4.0](https://creativecommons.org/licenses/by-nc-nd/4.0/)."
   ]
  }
 ],
 "metadata": {
  "kernelspec": {
   "display_name": "Python 3 (ipykernel)",
   "language": "python",
   "name": "python3"
  },
  "language_info": {
   "codemirror_mode": {
    "name": "ipython",
    "version": 3
   },
   "file_extension": ".py",
   "mimetype": "text/x-python",
   "name": "python",
   "nbconvert_exporter": "python",
   "pygments_lexer": "ipython3",
   "version": "3.11.0"
  },
  "widgets": {
   "application/vnd.jupyter.widget-state+json": {
    "state": {},
    "version_major": 2,
    "version_minor": 0
   }
  }
 },
 "nbformat": 4,
 "nbformat_minor": 4
}
